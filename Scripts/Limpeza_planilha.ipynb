{
 "cells": [
  {
   "cell_type": "code",
   "execution_count": 44,
   "metadata": {},
   "outputs": [],
   "source": [
    "# Importando biblioteca.\n",
    "import pandas as pd"
   ]
  },
  {
   "cell_type": "code",
   "execution_count": 45,
   "metadata": {},
   "outputs": [
    {
     "data": {
      "text/plain": [
       "<pandas.io.excel._base.ExcelFile at 0x267310db050>"
      ]
     },
     "execution_count": 45,
     "metadata": {},
     "output_type": "execute_result"
    }
   ],
   "source": [
    "# Definindo caminho.\n",
    "path_planilha = r\"C:/Users/vini7/Desktop/Projetos Automações/Limpeza Planilha Disparos/Planilhas/EMPRESAS ABERTAS 21-02.xlsx\"\n",
    "\n",
    "# Abrindo arquivo Excel.\n",
    "planilha = pd.ExcelFile(path_planilha)\n",
    "planilha"
   ]
  },
  {
   "cell_type": "code",
   "execution_count": 46,
   "metadata": {},
   "outputs": [],
   "source": [
    "# Função remover o hífen e o 9, caso necessário.\n",
    "def formatar_coluna(telefones):\n",
    "    telefones = str(telefones)\n",
    "\n",
    "    telefones = telefones.replace(\"-\", \"\")\n",
    "\n",
    "    if len(telefones) > 10:\n",
    "        telefones = telefones[:2] + telefones[3:]\n",
    "    \n",
    "    return telefones"
   ]
  },
  {
   "cell_type": "code",
   "execution_count": 47,
   "metadata": {},
   "outputs": [
    {
     "name": "stdout",
     "output_type": "stream",
     "text": [
      "Gravação completa.\n",
      "Gravação completa.\n",
      "Gravação completa.\n",
      "Gravação completa.\n",
      "Gravação completa.\n",
      "Gravação completa.\n",
      "Gravação completa.\n",
      "Gravação completa.\n",
      "Gravação completa.\n",
      "Gravação completa.\n",
      "Gravação completa.\n",
      "Gravação completa.\n",
      "Gravação completa.\n",
      "Gravação completa.\n",
      "Gravação completa.\n",
      "Gravação completa.\n",
      "Gravação completa.\n",
      "Gravação completa.\n",
      "Gravação completa.\n",
      "Gravação completa.\n",
      "Gravação completa.\n",
      "Gravação completa.\n",
      "Gravação completa.\n",
      "Gravação completa.\n",
      "Gravação completa.\n",
      "Gravação completa.\n",
      "Gravação completa.\n"
     ]
    }
   ],
   "source": [
    "# Dicionário para armazena os dados formatados.\n",
    "dados_processados = {}\n",
    "\n",
    "# Percorre todos os estados.\n",
    "for estado in planilha.sheet_names:\n",
    "    \n",
    "    # Abre a aba de cada estado.\n",
    "    dados = planilha.parse(estado)\n",
    "\n",
    "    if \"Telefones\" in dados.columns:\n",
    "        # Faz a formatação.\n",
    "        dados[\"Telefones\"] = dados[\"Telefones\"].apply(formatar_coluna)\n",
    "    else:\n",
    "        dados[\"Numero\"] = dados[\"Numero\"].apply(formatar_coluna)\n",
    "\n",
    "    # Armazena os dados em um dicionário.\n",
    "    dados_processados[estado] = dados\n",
    "\n",
    "with pd.ExcelWriter(r\"C:/Users/vini7/Desktop/Projetos Automações/Limpeza Planilha Disparos/Planilhas/EMPRESAS ABERTAS 21-02Atualizada.xlsx\") as writer:\n",
    "    for estado, dados in dados_processados.items():\n",
    "        dados.to_excel(writer, sheet_name = estado, index = False)\n",
    "        print(\"Gravação completa.\")"
   ]
  }
 ],
 "metadata": {
  "kernelspec": {
   "display_name": "Python 3",
   "language": "python",
   "name": "python3"
  },
  "language_info": {
   "codemirror_mode": {
    "name": "ipython",
    "version": 3
   },
   "file_extension": ".py",
   "mimetype": "text/x-python",
   "name": "python",
   "nbconvert_exporter": "python",
   "pygments_lexer": "ipython3",
   "version": "3.13.2"
  }
 },
 "nbformat": 4,
 "nbformat_minor": 2
}
